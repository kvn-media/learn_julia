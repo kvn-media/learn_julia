{
 "cells": [
  {
   "cell_type": "code",
   "execution_count": 1,
   "metadata": {},
   "outputs": [
    {
     "name": "stderr",
     "output_type": "stream",
     "text": [
      "\u001b[32m\u001b[1m    Updating\u001b[22m\u001b[39m registry at `C:\\Users\\MKevin\\.julia\\registries\\General.toml`\n",
      "\u001b[32m\u001b[1m   Resolving\u001b[22m\u001b[39m package versions...\n",
      "\u001b[32m\u001b[1m  No Changes\u001b[22m\u001b[39m to `C:\\Users\\MKevin\\.julia\\environments\\v1.10\\Project.toml`\n",
      "\u001b[32m\u001b[1m  No Changes\u001b[22m\u001b[39m to `C:\\Users\\MKevin\\.julia\\environments\\v1.10\\Manifest.toml`\n"
     ]
    }
   ],
   "source": [
    "using Pkg\n",
    "Pkg.add(\"IJulia\")"
   ]
  },
  {
   "cell_type": "markdown",
   "metadata": {},
   "source": [
    "## Integers"
   ]
  },
  {
   "cell_type": "code",
   "execution_count": 34,
   "metadata": {},
   "outputs": [
    {
     "name": "stdout",
     "output_type": "stream",
     "text": [
      "   Int8: [-128,127]\n",
      "  Int16: [-32768,32767]\n",
      "  Int32: [-2147483648,2147483647]\n",
      "  Int64: [-9223372036854775808,9223372036854775807]\n",
      " Int128: [-170141183460469231731687303715884105728,170141183460469231731687303715884105727]\n",
      "  UInt8: [0,255]\n",
      " UInt16: [0,65535]\n",
      " UInt32: [0,4294967295]\n",
      " UInt64: [0,18446744073709551615]\n",
      "UInt128: [0,340282366920938463463374607431768211455]\n"
     ]
    }
   ],
   "source": [
    "1\n",
    "1234\n",
    "typeof(1)\n",
    "Sys.WORD_SIZE\n",
    "Int\n",
    "UInt\n",
    "typeof(3000000000)\n",
    "x = 0x1\n",
    "typeof(x)\n",
    "x = 0x123\n",
    "typeof(x)\n",
    "x = 0x1234567\n",
    "typeof(x)\n",
    "x = 0x123456789abcdef\n",
    "typeof(x)\n",
    "x = 0x11112222333344445555666677778888\n",
    "typeof(x)\n",
    "x = 0b10\n",
    "typeof(x)\n",
    "x = 0o010\n",
    "typeof(x)\n",
    "x = 0x00000000000000001111222233334444\n",
    "typeof(x)\n",
    "-0x2\n",
    "-0x0002\n",
    "(typemin(Int32), typemax(Int32))\n",
    "\n",
    "for T in [Int8,Int16,Int32,Int64,Int128,UInt8,UInt16,UInt32,UInt64,UInt128]\n",
    "    println(\"$(lpad(T,7)): [$(typemin(T)),$(typemax(T))]\")\n",
    "end\n"
   ]
  },
  {
   "cell_type": "markdown",
   "metadata": {},
   "source": [
    "## Overflow behavior"
   ]
  },
  {
   "cell_type": "code",
   "execution_count": 35,
   "metadata": {},
   "outputs": [
    {
     "data": {
      "text/plain": [
       "10000000000000000000"
      ]
     },
     "metadata": {},
     "output_type": "display_data"
    }
   ],
   "source": [
    "x = typemax(Int64)\n",
    "x + 1\n",
    "x + 1 == typemin(Int64)\n",
    "10^19\n",
    "big(10)^19"
   ]
  },
  {
   "cell_type": "markdown",
   "metadata": {},
   "source": [
    "## Division errors\n",
    "\n",
    "Integer division (the div function) has two exceptional cases: dividing by zero, and dividing the lowest\n",
    "negative number (typemin) by -1. Both of these cases throw a DivideError. The remainder and modulus\n",
    "functions (rem and mod) throw a DivideError when their second argument is zero."
   ]
  },
  {
   "cell_type": "markdown",
   "metadata": {},
   "source": [
    "## Floating-Point Numbers\n",
    "\n",
    "Literal floating-point numbers are represented in the standard formats, using E-notation when necessary:"
   ]
  },
  {
   "cell_type": "code",
   "execution_count": 11,
   "metadata": {},
   "outputs": [
    {
     "data": {
      "text/plain": [
       "(10000, 5.0e-9, 0xdeadbeef, 0xb2)"
      ]
     },
     "metadata": {},
     "output_type": "display_data"
    }
   ],
   "source": [
    "1.0\n",
    "1.\n",
    "0.5\n",
    ".5\n",
    "-1.23\n",
    "1e10\n",
    "2.5e-4\n",
    "x = 0.5f0\n",
    "typeof(x)\n",
    "x = Float32(-1.5)\n",
    "typeof(x)\n",
    "0x1p0\n",
    "0x1.8p3\n",
    "x = 0x.4p-1\n",
    "typeof(x)\n",
    "sizeof(Float16(4.))\n",
    "2*Float16(4.)\n",
    "10_000, 0.000_000_005, 0xdead_beef, 0b1011_0010\n"
   ]
  },
  {
   "cell_type": "markdown",
   "metadata": {},
   "source": [
    "## Floating-point zero\n",
    "\n",
    "Floating-point numbers have two zeros, positive zero and negative zero. They are equal to each other but\n",
    "have different binary representations, as can be seen using the bitstring function:"
   ]
  },
  {
   "cell_type": "code",
   "execution_count": 14,
   "metadata": {},
   "outputs": [
    {
     "data": {
      "text/plain": [
       "\"1000000000000000000000000000000000000000000000000000000000000000\""
      ]
     },
     "metadata": {},
     "output_type": "display_data"
    }
   ],
   "source": [
    "0.0 == -0.0\n",
    "bitstring(0.0)\n",
    "bitstring(-0.0)"
   ]
  },
  {
   "cell_type": "markdown",
   "metadata": {},
   "source": [
    "## Special floating-point values\n",
    "\n",
    "There are three specified standard floating-point values that do not correspond to any point on the real\n",
    "number line:\n",
    "For further discussion of how these non-finite floating-point values are ordered with respect to each other\n",
    "and other floats, see Numeric Comparisons. By the IEEE 754 standard, these floating-point values are the\n",
    "results of certain arithmetic operations:"
   ]
  },
  {
   "cell_type": "code",
   "execution_count": 32,
   "metadata": {},
   "outputs": [
    {
     "data": {
      "text/plain": [
       "(-Inf, Inf)"
      ]
     },
     "metadata": {},
     "output_type": "display_data"
    }
   ],
   "source": [
    "1/Inf\n",
    "1/0\n",
    "-5/0\n",
    "0.000001/0\n",
    "0/0\n",
    "500 + Inf\n",
    "500 - Inf\n",
    "Inf + Inf\n",
    "Inf - Inf\n",
    "Inf / Inf\n",
    "0 * Inf\n",
    "NaN == NaN\n",
    "NaN != NaN\n",
    "NaN < NaN\n",
    "NaN > NaN\n",
    "(typemin(Float16),typemax(Float16))\n",
    "(typemin(Float32),typemax(Float32))\n",
    "(typemin(Float64),typemax(Float64))"
   ]
  },
  {
   "cell_type": "markdown",
   "metadata": {},
   "source": [
    "## Machine epsilon\n",
    "\n",
    "Most real numbers cannot be represented exactly with floating-point numbers, and so for many purposes\n",
    "it is important to know the distance between two adjacent representable floating-point numbers, which is\n",
    "often known as machine epsilon.\n",
    "Julia provides eps, which gives the distance between 1.0 and the next larger representable floating-point\n",
    "value:"
   ]
  },
  {
   "cell_type": "code",
   "execution_count": 46,
   "metadata": {},
   "outputs": [
    {
     "data": {
      "text/plain": [
       "\"00111111101000000000000000000001\""
      ]
     },
     "metadata": {},
     "output_type": "display_data"
    }
   ],
   "source": [
    "eps(Float32)\n",
    "eps(Float64)\n",
    "eps() # same as eps(Float64)\n",
    "eps(1.0)\n",
    "eps(1000.)\n",
    "eps(1e-27)\n",
    "eps(0.0)\n",
    "x = 1.25f0\n",
    "nextfloat(x)\n",
    "prevfloat(x)\n",
    "bitstring(prevfloat(x))\n",
    "bitstring(x)\n",
    "bitstring(nextfloat(x))"
   ]
  },
  {
   "cell_type": "markdown",
   "metadata": {},
   "source": [
    "## Arbitrary Precision Arithmetic\n",
    "\n",
    "To allow computations with arbitrary-precision integers and floating point numbers, Julia wraps the GNU Mul-\n",
    "tiple Precision Arithmetic Library (GMP) and the GNU MPFR Library, respectively. The BigInt and BigFloat\n",
    "types are available in Julia for arbitrary precision integer and floating point numbers respectively.\n",
    "Constructors exist to create these types from primitive numerical types, and the string literal @big_str or\n",
    "parse can be used to construct them from AbstractStrings. BigInts can also be input as integer literals\n",
    "when they are too big for other built-in integer types. Note that as there is no unsigned arbitrary-precision\n",
    "integer type in Base (BigInt is sufficient in most cases), hexadecimal, octal and binary literals can be used\n",
    "(in addition to decimal literals).\n",
    "Once created, they participate in arithmetic with all other numeric types thanks to Julia's type promotion\n",
    "and conversion mechanism:"
   ]
  },
  {
   "cell_type": "code",
   "execution_count": 66,
   "metadata": {},
   "outputs": [
    {
     "data": {
      "text/plain": [
       "BigInt"
      ]
     },
     "metadata": {},
     "output_type": "display_data"
    }
   ],
   "source": [
    "BigInt(typemax(Int64)) + 1\n",
    "big\"123456789012345678901234567890\" + 1\n",
    "parse(BigInt, \"123456789012345678901234567890\") + 1\n",
    "string(big\"2\"^200, base=16)\n",
    "0x100000000000000000000000000000000-1 == typemax(UInt128)\n",
    "0x000000000000000000000000000000000\n",
    "typeof(ans)\n",
    "big\"1.23456789012345678901\"\n",
    "parse(BigFloat, \"1.23456789012345678901\")\n",
    "BigFloat(2.0^66) / 3\n",
    "factorial(BigInt(40))\n",
    "x = typemin(Int64)\n",
    "x = x - 1\n",
    "typeof(x)\n",
    "y = BigInt(typemin(Int64))\n",
    "y = y - 1\n",
    "typeof(y)"
   ]
  },
  {
   "cell_type": "code",
   "execution_count": 69,
   "metadata": {},
   "outputs": [
    {
     "data": {
      "text/plain": [
       "1.1000000000004"
      ]
     },
     "metadata": {},
     "output_type": "display_data"
    }
   ],
   "source": [
    "setrounding(BigFloat, RoundUp) do\n",
    "    BigFloat(1) + parse(BigFloat, \"0.1\")\n",
    "end\n",
    "\n",
    "setrounding(BigFloat, RoundDown) do\n",
    "    BigFloat(1) + parse(BigFloat, \"0.1\")\n",
    "end\n",
    "\n",
    "setprecision(40) do \n",
    "    BigFloat(1) + parse(BigFloat, \"0.1\")\n",
    "end"
   ]
  },
  {
   "cell_type": "markdown",
   "metadata": {},
   "source": [
    "## Numeric Literal Coefficients\n",
    "\n",
    "To make common numeric formulae and expressions clearer, Julia allows variables to be immediately\n",
    "preceded by a numeric literal, implying multiplication. This makes writing polynomial expressions much\n",
    "cleaner"
   ]
  },
  {
   "cell_type": "code",
   "execution_count": 75,
   "metadata": {},
   "outputs": [
    {
     "data": {
      "text/plain": [
       "6"
      ]
     },
     "metadata": {},
     "output_type": "display_data"
    }
   ],
   "source": [
    "x = 3\n",
    "2x^2 - 3x + 1\n",
    "1.5x^2 - .5x + 1\n",
    "2^2x\n",
    "2(x-1)^2 - 3(x-1) + 1\n",
    "(x-1)x"
   ]
  },
  {
   "cell_type": "markdown",
   "metadata": {},
   "source": [
    "## Literal zero and one\n",
    "\n",
    "Julia provides functions which return literal 0 and 1 corresponding to a specified type or the type of a given\n",
    "variable."
   ]
  },
  {
   "cell_type": "code",
   "execution_count": 79,
   "metadata": {},
   "outputs": [
    {
     "data": {
      "text/plain": [
       "1.0"
      ]
     },
     "metadata": {},
     "output_type": "display_data"
    }
   ],
   "source": [
    "zero(Float32)\n",
    "zero(1.0)\n",
    "one(Int32)\n",
    "one(BigFloat)"
   ]
  }
 ],
 "metadata": {
  "kernelspec": {
   "display_name": "Julia 1.10.3",
   "language": "julia",
   "name": "julia-1.10"
  },
  "language_info": {
   "file_extension": ".jl",
   "mimetype": "application/julia",
   "name": "julia",
   "version": "1.10.3"
  }
 },
 "nbformat": 4,
 "nbformat_minor": 2
}
