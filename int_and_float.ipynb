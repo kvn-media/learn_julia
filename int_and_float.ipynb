{
 "cells": [
  {
   "cell_type": "code",
   "execution_count": 1,
   "metadata": {},
   "outputs": [
    {
     "name": "stderr",
     "output_type": "stream",
     "text": [
      "\u001b[32m\u001b[1m    Updating\u001b[22m\u001b[39m registry at `C:\\Users\\MKevin\\.julia\\registries\\General.toml`\n",
      "\u001b[32m\u001b[1m   Resolving\u001b[22m\u001b[39m package versions...\n",
      "\u001b[32m\u001b[1m  No Changes\u001b[22m\u001b[39m to `C:\\Users\\MKevin\\.julia\\environments\\v1.10\\Project.toml`\n",
      "\u001b[32m\u001b[1m  No Changes\u001b[22m\u001b[39m to `C:\\Users\\MKevin\\.julia\\environments\\v1.10\\Manifest.toml`\n"
     ]
    }
   ],
   "source": [
    "using Pkg\n",
    "Pkg.add(\"IJulia\")"
   ]
  },
  {
   "cell_type": "markdown",
   "metadata": {},
   "source": [
    "## Integers"
   ]
  },
  {
   "cell_type": "code",
   "execution_count": 34,
   "metadata": {},
   "outputs": [
    {
     "name": "stdout",
     "output_type": "stream",
     "text": [
      "   Int8: [-128,127]\n",
      "  Int16: [-32768,32767]\n",
      "  Int32: [-2147483648,2147483647]\n",
      "  Int64: [-9223372036854775808,9223372036854775807]\n",
      " Int128: [-170141183460469231731687303715884105728,170141183460469231731687303715884105727]\n",
      "  UInt8: [0,255]\n",
      " UInt16: [0,65535]\n",
      " UInt32: [0,4294967295]\n",
      " UInt64: [0,18446744073709551615]\n",
      "UInt128: [0,340282366920938463463374607431768211455]\n"
     ]
    }
   ],
   "source": [
    "1\n",
    "1234\n",
    "typeof(1)\n",
    "Sys.WORD_SIZE\n",
    "Int\n",
    "UInt\n",
    "typeof(3000000000)\n",
    "x = 0x1\n",
    "typeof(x)\n",
    "x = 0x123\n",
    "typeof(x)\n",
    "x = 0x1234567\n",
    "typeof(x)\n",
    "x = 0x123456789abcdef\n",
    "typeof(x)\n",
    "x = 0x11112222333344445555666677778888\n",
    "typeof(x)\n",
    "x = 0b10\n",
    "typeof(x)\n",
    "x = 0o010\n",
    "typeof(x)\n",
    "x = 0x00000000000000001111222233334444\n",
    "typeof(x)\n",
    "-0x2\n",
    "-0x0002\n",
    "(typemin(Int32), typemax(Int32))\n",
    "\n",
    "for T in [Int8,Int16,Int32,Int64,Int128,UInt8,UInt16,UInt32,UInt64,UInt128]\n",
    "    println(\"$(lpad(T,7)): [$(typemin(T)),$(typemax(T))]\")\n",
    "end\n"
   ]
  },
  {
   "cell_type": "markdown",
   "metadata": {},
   "source": [
    "## Overflow behavior"
   ]
  },
  {
   "cell_type": "code",
   "execution_count": 35,
   "metadata": {},
   "outputs": [
    {
     "data": {
      "text/plain": [
       "10000000000000000000"
      ]
     },
     "metadata": {},
     "output_type": "display_data"
    }
   ],
   "source": [
    "x = typemax(Int64)\n",
    "x + 1\n",
    "x + 1 == typemin(Int64)\n",
    "10^19\n",
    "big(10)^19"
   ]
  },
  {
   "cell_type": "markdown",
   "metadata": {},
   "source": [
    "## Division errors\n",
    "\n",
    "Integer division (the div function) has two exceptional cases: dividing by zero, and dividing the lowest\n",
    "negative number (typemin) by -1. Both of these cases throw a DivideError. The remainder and modulus\n",
    "functions (rem and mod) throw a DivideError when their second argument is zero."
   ]
  },
  {
   "cell_type": "markdown",
   "metadata": {},
   "source": [
    "## Floating-Point Numbers\n",
    "\n",
    "Literal floating-point numbers are represented in the standard formats, using E-notation when necessary:"
   ]
  },
  {
   "cell_type": "code",
   "execution_count": 43,
   "metadata": {},
   "outputs": [
    {
     "data": {
      "text/plain": [
       "0.00025"
      ]
     },
     "metadata": {},
     "output_type": "display_data"
    }
   ],
   "source": [
    "1.0\n",
    "1.\n",
    "0.5\n",
    ".5\n",
    "-1.23\n",
    "1e10\n",
    "2.5e-4"
   ]
  }
 ],
 "metadata": {
  "kernelspec": {
   "display_name": "Julia 1.10.3",
   "language": "julia",
   "name": "julia-1.10"
  },
  "language_info": {
   "file_extension": ".jl",
   "mimetype": "application/julia",
   "name": "julia",
   "version": "1.10.3"
  }
 },
 "nbformat": 4,
 "nbformat_minor": 2
}
